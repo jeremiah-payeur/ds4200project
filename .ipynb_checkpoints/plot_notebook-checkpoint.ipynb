{
 "cells": [
  {
   "cell_type": "code",
   "execution_count": null,
   "id": "851d0579",
   "metadata": {},
   "outputs": [],
   "source": [
    "import matplotlib.pyplot as plt\n",
    "import numpy as np\n",
    "import plotly.express as px\n",
    "import pandas as pd\n",
    "import seaborn as sns\n",
    "from scipy.spatial import ConvexHull\n",
    "import geojson\n",
    "import numpy as np\n",
    "import geopandas\n",
    "import geodatasets\n",
    "import wordcloud as wc\n",
    "from PIL import Image\n",
    "import folium\n",
    "import altair as alt\n",
    "from vega_datasets import data"
   ]
  },
  {
   "cell_type": "code",
   "execution_count": null,
   "id": "25a0d32d",
   "metadata": {},
   "outputs": [],
   "source": [
    "LISTINGS = 'listings.csv'\n",
    "NUMBERS = ['0', '1', '2', '3', '4', '5', '6', '7', '8', '9']"
   ]
  },
  {
   "cell_type": "code",
   "execution_count": null,
   "id": "17e0a6c0",
   "metadata": {},
   "outputs": [],
   "source": [
    "listings = pd.read_csv(LISTINGS)\n",
    "listings.head()"
   ]
  },
  {
   "cell_type": "code",
   "execution_count": null,
   "id": "be533309",
   "metadata": {},
   "outputs": [],
   "source": [
    "listings['bathrooms'] = listings['bathrooms_text'].apply(lambda x: x.split(\" \")[0] if type(x) == str else 0)\n",
    "listings['bathrooms'] = listings['bathrooms'].apply(lambda x: float(x) if str(x)[0] in NUMBERS else np.nan)\n",
    "listings['bathrooms'] = listings['bathrooms'].dropna()"
   ]
  },
  {
   "cell_type": "code",
   "execution_count": null,
   "id": "5cf96c10",
   "metadata": {},
   "outputs": [],
   "source": [
    "sns.kdeplot(data = listings, x='bathrooms', y='review_scores_value')\n",
    "plot = sns.kdeplot(data = listings, x='bathrooms', y='review_scores_value')\n",
    "fig = plot.get_figure()\n",
    "fig.savefig('bathrooms.png')"
   ]
  },
  {
   "cell_type": "code",
   "execution_count": null,
   "id": "b514ea91",
   "metadata": {},
   "outputs": [],
   "source": [
    "boston = geopandas.read_file(\"Boston_Neighborhood_Boundaries_approximated_by_2020_Census_Block_Groups/Boston_Neighborhood_Boundaries_approximated_by_2020_Census_Block_Groups.shp\")\n",
    "boston_neighborhoods = boston[[\"blockgr202\", \"geometry\"]]\n",
    "neighborhood_agg = listings.groupby(\"neighbourhood_cleansed\", as_index=False)[\"review_scores_value\"].mean()\n",
    "geometry = pd.merge(boston, neighborhood_agg, left_on = \"blockgr202\", right_on = \"neighbourhood_cleansed\")"
   ]
  },
  {
   "cell_type": "code",
   "execution_count": null,
   "id": "42a0a921",
   "metadata": {
    "scrolled": true
   },
   "outputs": [],
   "source": [
    "review = geometry.explore(column = \"review_scores_value\", legend=True, name=\"Boston AirBnB Reviews\", \n",
    "                          tooltip='review_scores_value', popup=['neighbourhood_cleansed'])\n",
    "review"
   ]
  },
  {
   "cell_type": "code",
   "execution_count": null,
   "id": "69679672",
   "metadata": {},
   "outputs": [],
   "source": [
    "#scatterplot where user selects the attributes to compare\n",
    "#want to add binning to let people choose by neighborhood?\n",
    "\n",
    "columns = ['review_scores_communication','review_scores_location', 'review_scores_value', 'calculated_host_listings_count', 'calculated_host_listings_count_entire_homes', 'calculated_host_listings_count_private_rooms', 'calculated_host_listings_count_shared_rooms','reviews_per_month']\n",
    "\n",
    "select_box = alt.binding_select(options=columns, name='column')\n",
    "sel = alt.selection_single(fields=['column'], bind=select_box, value='review_scores_communication')\n",
    "\n",
    "chart = alt.Chart(listings).transform_fold(\n",
    "    columns,\n",
    "    as_ = ['column', 'value']\n",
    ").transform_filter(\n",
    "    sel\n",
    ").mark_point(color = '#6793b0').encode(\n",
    "    x='review_scores_value:Q',\n",
    "    y='value:Q',\n",
    ").add_selection(\n",
    "sel\n",
    ")\n",
    "chart.save('scatterplot.html')\n",
    "chart"
   ]
  },
  {
   "cell_type": "code",
   "execution_count": null,
   "id": "1da06bb6",
   "metadata": {},
   "outputs": [],
   "source": [
    "fig = px.box(listings, x=\"neighbourhood_cleansed\", y=\"review_scores_value\", title=\"Comparative Box Plot of AirB&B Ratings Across Neighborhoods\",\n",
    "            )\n",
    "fig.update_layout(xaxis_title=\"Neighborhood\", yaxis_title=\"Rating\")\n",
    "fig.update_layout({\n",
    "\"plot_bgcolor\": \"white\",\n",
    "   \n",
    "})\n",
    "fig.update_xaxes(tickangle=270)\n",
    "fig.update_xaxes(\n",
    "    mirror=True,\n",
    "    ticks='outside',\n",
    "    showline=True,\n",
    "    linecolor='black',\n",
    ")\n",
    "fig.update_yaxes(\n",
    "    mirror=True,\n",
    "    ticks='outside',\n",
    "    showline=True,\n",
    "    linecolor='black',\n",
    ")\n",
    "\n",
    "fig.update_traces(marker_color = '#6793b0', marker_line_color = '#666',\n",
    "                  marker_line_width = 2, opacity = 1)\n",
    "\n",
    "\n",
    "fig.show()\n",
    "fig.write_html('boxplot.html')"
   ]
  },
  {
   "cell_type": "code",
   "execution_count": null,
   "id": "fedcedd9",
   "metadata": {},
   "outputs": [],
   "source": [
    "words = \" \".join([str(description).replace(\"<br />\", \" \").replace(\"nan\", \" \") for description in list(listings[\"neighborhood_overview\"]) \n",
    "])\n",
    "unique_neighborhoods = list(set(listings[\"neighbourhood_cleansed\"]))\n",
    "\n",
    "for n in unique_neighborhoods:\n",
    "    n_listings = listings[listings[\"neighbourhood_cleansed\"] == n]\n",
    "    words = \" \".join([str(description).replace(\"<br />\", \" \").replace(\"nan\", \" \")\n",
    "                      for description in list(n_listings[\"neighborhood_overview\"])\n",
    "    ])\n",
    "    cloud = wc.WordCloud(background_color=\"white\", colormap=\"Purples\")\n",
    "    listings_cloud = cloud.generate(words)\n",
    "    plt.axis('off')\n",
    "    plt.title(f'Common Words in AirBnB Descriptions in {n} Neighborhood')\n",
    "    plt.imshow(listings_cloud)\n",
    "    plt.show()"
   ]
  }
 ],
 "metadata": {
  "kernelspec": {
   "display_name": "Python 3 (ipykernel)",
   "language": "python",
   "name": "python3"
  },
  "language_info": {
   "codemirror_mode": {
    "name": "ipython",
    "version": 3
   },
   "file_extension": ".py",
   "mimetype": "text/x-python",
   "name": "python",
   "nbconvert_exporter": "python",
   "pygments_lexer": "ipython3",
   "version": "3.9.12"
  }
 },
 "nbformat": 4,
 "nbformat_minor": 5
}
